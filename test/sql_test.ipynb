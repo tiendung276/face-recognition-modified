{
 "cells": [
  {
   "cell_type": "code",
   "execution_count": 2,
   "metadata": {},
   "outputs": [
    {
     "name": "stdout",
     "output_type": "stream",
     "text": [
      "Connection successful!\n"
     ]
    }
   ],
   "source": [
    "import pyodbc\n",
    "\n",
    "server = r\"desktop-5cqeviu\"  # Replace with your actual server name\n",
    "driver_name = \"SQL Server\"  # Replace with the actual driver installed on your machine\n",
    "database_name = \"QuanLyNhanSu\"\n",
    "username = \"sa\"\n",
    "password = \"123456\"\n",
    "\n",
    "# Define the connection string\n",
    "connection_str = f\"\"\"\n",
    "    DRIVER={{{driver_name}}};\n",
    "    SERVER={server};\n",
    "    DATABASE={database_name};\n",
    "    UID={username};\n",
    "    PWD={password};\n",
    "\"\"\"\n",
    "\n",
    "# Establish the connection\n",
    "try:\n",
    "    conn = pyodbc.connect(connection_str)\n",
    "    print(\"Connection successful!\")\n",
    "except pyodbc.Error as e:\n",
    "    print(\"Error in connection:\", e)\n",
    "\n",
    "if 'conn' in locals():\n",
    "    conn.close()\n",
    "\n"
   ]
  },
  {
   "cell_type": "code",
   "execution_count": 3,
   "metadata": {},
   "outputs": [
    {
     "name": "stdout",
     "output_type": "stream",
     "text": [
      "PhongBan\n",
      "Employees\n",
      "department\n",
      "Attendance\n",
      "sysdiagrams\n"
     ]
    }
   ],
   "source": [
    "\"\"\"PhongBan\n",
    "    Employees\n",
    "    department\n",
    "    Attendance\n",
    "\"\"\"\n",
    "try:\n",
    "    conn = pyodbc.connect(connection_str)\n",
    "    cursor = conn.cursor() # Query to list all tables in the current database\n",
    "    cursor.execute(\"SELECT TABLE_NAME FROM INFORMATION_SCHEMA.TABLES WHERE TABLE_TYPE = 'BASE TABLE'\")\n",
    "    \n",
    "    # Fetch all the tables\n",
    "    tables = cursor.fetchall()\n",
    "    for table in tables:\n",
    "        print(table.TABLE_NAME)\n",
    "\n",
    "except pyodbc.Error as e:\n",
    "    print(\"Error in connection or query:\", e)\n",
    "\n",
    "finally:\n",
    "    if 'conn' in locals():\n",
    "        conn.close()\n"
   ]
  },
  {
   "cell_type": "code",
   "execution_count": 9,
   "metadata": {},
   "outputs": [
    {
     "name": "stdout",
     "output_type": "stream",
     "text": [
      "{'employee_id': '1', 'full_name': 'Nguyen Van A', 'department': 'PB1', 'position': 'Ke Toan Truong', 'hire_date': '2024-11-23', 'status': 'None', 'birthday': '2023-06-27 00:00:00', 'gender': 'Nam', 'link_image': 'None'}\n"
     ]
    }
   ],
   "source": [
    "import pyodbc\n",
    "\n",
    "# Establish the connection and fetch the data\n",
    "try:\n",
    "    conn = pyodbc.connect(connection_str)\n",
    "    cursor = conn.cursor()\n",
    "    # Query to select data from the specific table\n",
    "    cursor.execute(\"SELECT * FROM Employees\")\n",
    "    rows = cursor.fetchall()\n",
    "    cleaned_data = [(str(col).strip() for col in row) for row in rows]\n",
    "    data_dicts = [dict(zip([column[0] for column in cursor.description], row)) for row in cleaned_data]\n",
    "    \n",
    "    for data in data_dicts:\n",
    "        print(data)\n",
    "\n",
    "except pyodbc.Error as e:\n",
    "    print(\"Error in connection or query:\", e)\n",
    "\n",
    "finally:\n",
    "    if 'conn' in locals():\n",
    "        conn.close()\n"
   ]
  },
  {
   "cell_type": "code",
   "execution_count": null,
   "metadata": {},
   "outputs": [
    {
     "name": "stdout",
     "output_type": "stream",
     "text": [
      "Records inserted successfully.\n"
     ]
    }
   ],
   "source": [
    "users_data = [\n",
    "    {'username': 'admin_user', 'password': 'admin_pass', 'role': 'admin', 'status': 'active'},\n",
    "    {'username': 'user1', 'password': '123456', 'role': 'employee', 'status': 'active'},\n",
    "    {'username': 'user2', 'password': '345678', 'role': 'employee', 'status': 'active'},\n",
    "    {'username': 'user3', 'password': '123456', 'role': 'employee', 'status': 'inactive'},\n",
    "    {'username': 'user4', 'password': '111111', 'role': 'employee', 'status': 'active'}\n",
    "]\n",
    "\n",
    "try:\n",
    "    conn = pyodbc.connect(connection_str)\n",
    "    cursor = conn.cursor()\n",
    "    for user in users_data:\n",
    "        insert_query = \"\"\"\n",
    "            INSERT INTO UserAccounts (\n",
    "                username, password, role, status\n",
    "            ) \n",
    "            VALUES (?, ?, ?, ?)\n",
    "        \"\"\"\n",
    "        cursor.execute(\n",
    "            insert_query,\n",
    "            user['username'], user['password'], user['role'], user['status']\n",
    "        )\n",
    "\n",
    "    # Commit các thay đổi để lưu vào cơ sở dữ liệu\n",
    "    conn.commit()\n",
    "    print(\"Records inserted successfully.\")\n",
    "\n",
    "except pyodbc.Error as e:\n",
    "    print(\"Error in connection or query:\", e)\n",
    "\n",
    "finally:\n",
    "    if 'conn' in locals():\n",
    "        conn.close()\n"
   ]
  },
  {
   "cell_type": "code",
   "execution_count": 47,
   "metadata": {},
   "outputs": [
    {
     "name": "stdout",
     "output_type": "stream",
     "text": [
      "{'employee_id': '1', 'full_name': 'Nguyen Van A', 'department': 'PB1', 'position': 'Ke Toan Truong', 'hire_date': '2024-11-23', 'status': 'None', 'birthday': '2023-06-27', 'gender': 'Nam', 'link_image': 'None'}\n",
      "{'employee_id': '2', 'full_name': 'Tran Thi B', 'department': 'PB2', 'position': 'Nhan Vien Kinh Doanh', 'hire_date': '2021-03-20', 'status': 'active', 'birthday': '1990-08-15', 'gender': 'Nu', 'link_image': 'None'}\n",
      "{'employee_id': '3', 'full_name': 'Le Van C', 'department': 'PB3', 'position': 'Nhan Vien IT', 'hire_date': '2019-11-05', 'status': 'active', 'birthday': '1995-02-10', 'gender': 'Nam', 'link_image': 'None'}\n",
      "{'employee_id': '4', 'full_name': 'Nguyen Thi D', 'department': 'PB1', 'position': 'Thu Ky', 'hire_date': '2022-07-01', 'status': 'active', 'birthday': '1992-12-30', 'gender': 'Nu', 'link_image': 'None'}\n",
      "{'employee_id': '5', 'full_name': 'Pham Van E', 'department': 'PB2', 'position': 'Quan Ly Kinh Doanh', 'hire_date': '2018-09-12', 'status': 'active', 'birthday': '1987-03-25', 'gender': 'Nam', 'link_image': 'None'}\n",
      "{'employee_id': '6', 'full_name': 'Do Thi F', 'department': 'PB4', 'position': 'Truong Phong Ky Thuat', 'hire_date': '2015-01-20', 'status': 'active', 'birthday': '1980-05-14', 'gender': 'Nam', 'link_image': 'None'}\n"
     ]
    }
   ],
   "source": [
    "import pyodbc\n",
    "\n",
    "# Establish the connection and fetch the data\n",
    "try:\n",
    "    conn = pyodbc.connect(connection_str)\n",
    "    cursor = conn.cursor()\n",
    "    # Query to select data from the specific table\n",
    "    cursor.execute(\"SELECT * FROM Employees\")\n",
    "    rows = cursor.fetchall()\n",
    "    cleaned_data = [(str(col).strip() for col in row) for row in rows]\n",
    "    data_dicts = [dict(zip([column[0] for column in cursor.description], row)) for row in cleaned_data]\n",
    "    \n",
    "    for data in data_dicts:\n",
    "        print(data)\n",
    "\n",
    "except pyodbc.Error as e:\n",
    "    print(\"Error in connection or query:\", e)\n",
    "\n",
    "finally:\n",
    "    if 'conn' in locals():\n",
    "        conn.close()\n"
   ]
  },
  {
   "cell_type": "code",
   "execution_count": 44,
   "metadata": {},
   "outputs": [
    {
     "name": "stdout",
     "output_type": "stream",
     "text": [
      "{'department_id': 'PB01', 'department_name': 'Kê Toán'}\n",
      "{'department_id': 'PB02', 'department_name': 'Kinh doanh'}\n",
      "{'department_id': 'PB03', 'department_name': 'Nhân s?'}\n"
     ]
    }
   ],
   "source": [
    "import pyodbc\n",
    "\n",
    "# Establish the connection and fetch the data\n",
    "try:\n",
    "    conn = pyodbc.connect(connection_str)\n",
    "    cursor = conn.cursor()\n",
    "    # Query to select data from the specific table\n",
    "    cursor.execute(\"SELECT * FROM department\")\n",
    "    rows = cursor.fetchall()\n",
    "    cleaned_data = [(str(col).strip() for col in row) for row in rows]\n",
    "    data_dicts = [dict(zip([column[0] for column in cursor.description], row)) for row in cleaned_data]\n",
    "    \n",
    "    for data in data_dicts:\n",
    "        print(data)\n",
    "\n",
    "except pyodbc.Error as e:\n",
    "    print(\"Error in connection or query:\", e)\n",
    "\n",
    "finally:\n",
    "    if 'conn' in locals():\n",
    "        conn.close()\n"
   ]
  },
  {
   "cell_type": "code",
   "execution_count": null,
   "metadata": {},
   "outputs": [
    {
     "name": "stdout",
     "output_type": "stream",
     "text": [
      "{'MaPB': '001', 'TenPB': 'Cong Nghe Thong Tin'}\n",
      "{'MaPB': '002', 'TenPB': 'Truyen Thong'}\n",
      "{'MaPB': '003', 'TenPB': 'Nha Khoa'}\n",
      "{'MaPB': 'abca', 'TenPB': 'adsada'}\n",
      "{'MaPB': '004', 'TenPB': 'O To'}\n"
     ]
    }
   ],
   "source": [
    "import pyodbc\n",
    "\n",
    "# Establish the connection and fetch the data\n",
    "try:\n",
    "    conn = pyodbc.connect(connection_str)\n",
    "    cursor = conn.cursor()\n",
    "    # Query to select data from the specific table\n",
    "    cursor.execute(\"SELECT * FROM PhongBan\")\n",
    "    rows = cursor.fetchall()\n",
    "    cleaned_data = [(str(col).strip() for col in row) for row in rows]\n",
    "    data_dicts = [dict(zip([column[0] for column in cursor.description], row)) for row in cleaned_data]\n",
    "    \n",
    "    for data in data_dicts:\n",
    "        print(data)\n",
    "\n",
    "except pyodbc.Error as e:\n",
    "    print(\"Error in connection or query:\", e)\n",
    "\n",
    "finally:\n",
    "    if 'conn' in locals():\n",
    "        conn.close()\n"
   ]
  },
  {
   "cell_type": "code",
   "execution_count": 37,
   "metadata": {},
   "outputs": [
    {
     "name": "stdout",
     "output_type": "stream",
     "text": [
      "Records inserted successfully.\n"
     ]
    }
   ],
   "source": [
    "# Mẫu dữ liệu giả\n",
    "\n",
    "attendance_data = [\n",
    "    \n",
    "    {'attendance_id': '3', 'employee_id': '3', 'work_date': '2023-11-20', 'check_in_time': '10:00:00', 'check_out_time': '17:00:00', 'hours_worked': 7, 'status': 'leave'},\n",
    "    {'attendance_id': '4', 'employee_id': '4', 'work_date': '2023-11-20', 'check_in_time': '08:00:00', 'check_out_time': '16:30:00', 'hours_worked': 8.5, 'status': 'present'},\n",
    "    {'attendance_id': '5', 'employee_id': '5', 'work_date': '2023-11-20', 'check_in_time': '08:30:00', 'check_out_time': '17:00:00', 'hours_worked': 8.5, 'status': 'present'},\n",
    "    {'attendance_id': '6', 'employee_id': '6', 'work_date': '2023-11-21', 'check_in_time': '09:30:00', 'check_out_time': '18:30:00', 'hours_worked': 9, 'status': 'present'},\n",
    "    {'attendance_id': '7', 'employee_id': '7', 'work_date': '2023-11-21', 'check_in_time': '08:45:00', 'check_out_time': '17:15:00', 'hours_worked': 8.5, 'status': 'present'},\n",
    "    {'attendance_id': '8', 'employee_id': '8', 'work_date': '2023-11-21', 'check_in_time': '08:45', 'check_out_time': '08:45', 'hours_worked': None, 'status': 'absent'},\n",
    "    {'attendance_id': '9', 'employee_id': '9', 'work_date': '2023-11-22', 'check_in_time': '08:00:00', 'check_out_time': '16:30:00', 'hours_worked': 8.5, 'status': 'present'},\n",
    "    {'attendance_id': '10', 'employee_id': '10', 'work_date': '2023-11-22', 'check_in_time': '09:00:00', 'check_out_time': '18:00:00', 'hours_worked': 9, 'status': 'present'}\n",
    "]\n",
    "\n",
    "try:\n",
    "    conn = pyodbc.connect(connection_str)\n",
    "    cursor = conn.cursor()\n",
    "\n",
    "    # Insert từng bản ghi vào bảng Attendance\n",
    "    for i in attendance_data:\n",
    "        insert_query = \"\"\"\n",
    "            INSERT INTO Attendance (\n",
    "                attendance_id, employee_id, work_date, check_in_time, \n",
    "                check_out_time, hours_worked, status\n",
    "            ) \n",
    "            VALUES (?, ?, ?, ?, ?, ?, ?)\n",
    "        \"\"\"\n",
    "        cursor.execute(\n",
    "            insert_query,\n",
    "            i['attendance_id'], i['employee_id'], i['work_date'],\n",
    "            i['check_in_time'], i['check_out_time'], i['hours_worked'],\n",
    "            i['status']\n",
    "        )\n",
    "\n",
    "    # Commit các thay đổi để lưu vào cơ sở dữ liệu\n",
    "    conn.commit()\n",
    "    print(\"Records inserted successfully.\")\n",
    "\n",
    "except pyodbc.Error as e:\n",
    "    print(\"Error in connection or query:\", e)\n",
    "\n",
    "finally:\n",
    "    if 'conn' in locals():\n",
    "        conn.close()\n",
    "\n"
   ]
  },
  {
   "cell_type": "code",
   "execution_count": 39,
   "metadata": {},
   "outputs": [
    {
     "name": "stdout",
     "output_type": "stream",
     "text": [
      "{'attendance_id': '1', 'employee_id': '1', 'work_date': '2021-11-23', 'check_in_time': '09:00:00.0000000', 'check_out_time': '18:00:00.0000000', 'hours_worked': '9.0', 'status': 'None'}\n",
      "{'attendance_id': '2', 'employee_id': '2', 'work_date': '2023-11-20', 'check_in_time': '09:00:00.0000000', 'check_out_time': '18:00:00.0000000', 'hours_worked': '9.0', 'status': 'present'}\n",
      "{'attendance_id': '3', 'employee_id': '3', 'work_date': '2023-11-20', 'check_in_time': '10:00:00.0000000', 'check_out_time': '17:00:00.0000000', 'hours_worked': '7.0', 'status': 'leave'}\n",
      "{'attendance_id': '4', 'employee_id': '4', 'work_date': '2023-11-20', 'check_in_time': '08:00:00.0000000', 'check_out_time': '16:30:00.0000000', 'hours_worked': '8.5', 'status': 'present'}\n",
      "{'attendance_id': '5', 'employee_id': '5', 'work_date': '2023-11-20', 'check_in_time': '08:30:00.0000000', 'check_out_time': '17:00:00.0000000', 'hours_worked': '8.5', 'status': 'present'}\n",
      "{'attendance_id': '6', 'employee_id': '6', 'work_date': '2023-11-21', 'check_in_time': '09:30:00.0000000', 'check_out_time': '18:30:00.0000000', 'hours_worked': '9.0', 'status': 'present'}\n",
      "{'attendance_id': '7', 'employee_id': '7', 'work_date': '2023-11-21', 'check_in_time': '08:45:00.0000000', 'check_out_time': '17:15:00.0000000', 'hours_worked': '8.5', 'status': 'present'}\n",
      "{'attendance_id': '8', 'employee_id': '8', 'work_date': '2023-11-21', 'check_in_time': '08:45:00.0000000', 'check_out_time': '08:45:00.0000000', 'hours_worked': 'None', 'status': 'absent'}\n",
      "{'attendance_id': '9', 'employee_id': '9', 'work_date': '2023-11-22', 'check_in_time': '08:00:00.0000000', 'check_out_time': '16:30:00.0000000', 'hours_worked': '8.5', 'status': 'present'}\n",
      "{'attendance_id': '10', 'employee_id': '10', 'work_date': '2023-11-22', 'check_in_time': '09:00:00.0000000', 'check_out_time': '18:00:00.0000000', 'hours_worked': '9.0', 'status': 'present'}\n"
     ]
    }
   ],
   "source": [
    "import pyodbc\n",
    "\n",
    "# Establish the connection and fetch the data\n",
    "try:\n",
    "    conn = pyodbc.connect(connection_str)\n",
    "    cursor = conn.cursor()\n",
    "    # Query to select data from the specific table\n",
    "    cursor.execute(\"SELECT * FROM Attendance\")\n",
    "    rows = cursor.fetchall()\n",
    "    cleaned_data = [(str(col).strip() for col in row) for row in rows]\n",
    "    data_dicts = [dict(zip([column[0] for column in cursor.description], row)) for row in cleaned_data]\n",
    "    \n",
    "    for data in data_dicts:\n",
    "        print(data)\n",
    "\n",
    "except pyodbc.Error as e:\n",
    "    print(\"Error in connection or query:\", e)\n",
    "\n",
    "finally:\n",
    "    if 'conn' in locals():\n",
    "        conn.close()\n"
   ]
  },
  {
   "cell_type": "code",
   "execution_count": null,
   "metadata": {},
   "outputs": [],
   "source": [
    "\n",
    "# {'attendance_id': '1', 'employee_id': '1', 'work_date': '2021-11-23', 'check_in_time': '09:00:00.0000000', 'check_out_time': '18:00:00.0000000', 'hours_worked': '9.0', 'status': 'None'}\n",
    "# {'attendance_id': '2', 'employee_id': '2', 'work_date': '2023-11-20', 'check_in_time': '09:00:00.0000000', 'check_out_time': '18:00:00.0000000', 'hours_worked': '9.0', 'status': 'present'}\n",
    "# {'attendance_id': '3', 'employee_id': '3', 'work_date': '2023-11-20', 'check_in_time': '10:00:00.0000000', 'check_out_time': '17:00:00.0000000', 'hours_worked': '7.0', 'status': 'leave'}\n",
    "# {'attendance_id': '4', 'employee_id': '4', 'work_date': '2023-11-20', 'check_in_time': '08:00:00.0000000', 'check_out_time': '16:30:00.0000000', 'hours_worked': '8.5', 'status': 'present'}\n",
    "# {'attendance_id': '5', 'employee_id': '5', 'work_date': '2023-11-20', 'check_in_time': '08:30:00.0000000', 'check_out_time': '17:00:00.0000000', 'hours_worked': '8.5', 'status': 'present'}\n",
    "# {'attendance_id': '6', 'employee_id': '6', 'work_date': '2023-11-21', 'check_in_time': '09:30:00.0000000', 'check_out_time': '18:30:00.0000000', 'hours_worked': '9.0', 'status': 'present'}\n",
    "# {'attendance_id': '7', 'employee_id': '7', 'work_date': '2023-11-21', 'check_in_time': '08:45:00.0000000', 'check_out_time': '17:15:00.0000000', 'hours_worked': '8.5', 'status': 'present'}\n",
    "# {'attendance_id': '8', 'employee_id': '8', 'work_date': '2023-11-21', 'check_in_time': '08:45:00.0000000', 'check_out_time': '08:45:00.0000000', 'hours_worked': 'None', 'status': 'absent'}\n",
    "# {'attendance_id': '9', 'employee_id': '9', 'work_date': '2023-11-22', 'check_in_time': '08:00:00.0000000', 'check_out_time': '16:30:00.0000000', 'hours_worked': '8.5', 'status': 'present'}\n",
    "# {'attendance_id': '10', 'employee_id': '10', 'work_date': '2023-11-22', 'check_in_time': '09:00:00.0000000', 'check_out_time': '18:00:00.0000000', 'hours_worked': '9.0', 'status': 'present'}"
   ]
  },
  {
   "cell_type": "code",
   "execution_count": 4,
   "metadata": {},
   "outputs": [
    {
     "name": "stdout",
     "output_type": "stream",
     "text": [
      "Record inserted successfully.\n"
     ]
    }
   ],
   "source": [
    "import pyodbc\n",
    "\n",
    "# Establish the connection\n",
    "try:\n",
    "    conn = pyodbc.connect(connection_str)\n",
    "    cursor = conn.cursor()\n",
    "\n",
    "    # Example of inserting new data\n",
    "    new_data = {'MaPB': 'NV05', 'TenPB': 'Marketing'}\n",
    "    insert_query = \"INSERT INTO PhongBan (MaPB, TenPB) VALUES (?, ?)\"\n",
    "    cursor.execute(insert_query, new_data['MaPB'], new_data['TenPB'])\n",
    "\n",
    "    # Commit the changes to make them permanent\n",
    "    conn.commit()\n",
    "    print(\"Record inserted successfully.\")\n",
    "\n",
    "except pyodbc.Error as e:\n",
    "    print(\"Error in connection or query:\", e)\n",
    "\n",
    "finally:\n",
    "    if 'conn' in locals():\n",
    "        conn.close()\n"
   ]
  },
  {
   "cell_type": "code",
   "execution_count": null,
   "metadata": {},
   "outputs": [
    {
     "name": "stdout",
     "output_type": "stream",
     "text": [
      "Record updated successfully.\n"
     ]
    }
   ],
   "source": [
    "import pyodbc\n",
    "\n",
    "# Establish the connection\n",
    "try:\n",
    "    conn = pyodbc.connect(connection_str)\n",
    "    cursor = conn.cursor()\n",
    "    update_data = {'MaPB': '004', 'new_TenPB': 'Updated Department'}\n",
    "    update_query = \"UPDATE PhongBan SET TenPB = ? WHERE MaPB = ?\"\n",
    "    cursor.execute(update_query, update_data['new_TenPB'], update_data['MaPB'])\n",
    "    conn.commit()\n",
    "    print(\"Record updated successfully.\")\n",
    "except pyodbc.Error as e:\n",
    "    print(\"Error in connection or query:\", e)\n",
    "\n",
    "finally:\n",
    "    if 'conn' in locals():\n",
    "        conn.close()\n"
   ]
  },
  {
   "cell_type": "code",
   "execution_count": 8,
   "metadata": {},
   "outputs": [
    {
     "name": "stdout",
     "output_type": "stream",
     "text": [
      "{'MaPB': '001', 'TenPB': 'Cong Nghe Thong Tin'}\n",
      "{'MaPB': '002', 'TenPB': 'Truyen Thong'}\n",
      "{'MaPB': '003', 'TenPB': 'Nha Khoa'}\n",
      "{'MaPB': 'abca', 'TenPB': 'adsada'}\n",
      "{'MaPB': '004', 'TenPB': 'Updated Department'}\n"
     ]
    }
   ],
   "source": [
    "import pyodbc\n",
    "\n",
    "# Establish the connection and fetch the data\n",
    "try:\n",
    "    conn = pyodbc.connect(connection_str)\n",
    "    cursor = conn.cursor()\n",
    "    # Query to select data from the specific table\n",
    "    cursor.execute(\"SELECT * FROM PhongBan\")\n",
    "    rows = cursor.fetchall()\n",
    "    cleaned_data = [(str(col).strip() for col in row) for row in rows]\n",
    "    data_dicts = [dict(zip([column[0] for column in cursor.description], row)) for row in cleaned_data]\n",
    "    \n",
    "    for data in data_dicts:\n",
    "        print(data)\n",
    "\n",
    "except pyodbc.Error as e:\n",
    "    print(\"Error in connection or query:\", e)\n",
    "\n",
    "finally:\n",
    "    if 'conn' in locals():\n",
    "        conn.close()\n"
   ]
  },
  {
   "cell_type": "code",
   "execution_count": 6,
   "metadata": {},
   "outputs": [
    {
     "name": "stdout",
     "output_type": "stream",
     "text": [
      "Record deleted successfully.\n"
     ]
    }
   ],
   "source": [
    "import pyodbc\n",
    "\n",
    "try:\n",
    "    conn = pyodbc.connect(connection_str)\n",
    "    cursor = conn.cursor()\n",
    "\n",
    "    # Example of deleting data\n",
    "    delete_query = \"DELETE FROM Employees\"\n",
    "    cursor.execute(delete_query)\n",
    "\n",
    "    conn.commit()\n",
    "    print(\"Record deleted successfully.\")\n",
    "\n",
    "except pyodbc.Error as e:\n",
    "    print(\"Error in connection or query:\", e)\n",
    "\n",
    "finally:\n",
    "    if 'conn' in locals():\n",
    "        conn.close()\n"
   ]
  },
  {
   "cell_type": "code",
   "execution_count": 7,
   "metadata": {},
   "outputs": [],
   "source": [
    "\n",
    "# Replace 'YourTableName' with the table name you want to query\n",
    "table_name = \"Employees\"\n",
    "\n",
    "# Establish the connection\n",
    "try:\n",
    "    conn = pyodbc.connect(connection_str)\n",
    "    cursor = conn.cursor()\n",
    "    \"\"\"\n",
    "    PhongBan\n",
    "    Employees\n",
    "    department\n",
    "    Attendance\n",
    "    \"\"\"\n",
    "    # Query to select data from a specific table\n",
    "    cursor.execute(f\"SELECT * FROM {table_name}\")\n",
    "    \n",
    "    rows = cursor.fetchall()\n",
    "    \n",
    "    # Loop through the rows and print the data\n",
    "    for row in rows:\n",
    "        print(row)\n",
    "\n",
    "except pyodbc.Error as e:\n",
    "    print(\"Error in connection or query:\", e)\n",
    "\n",
    "finally:\n",
    "    if 'conn' in locals():\n",
    "        conn.close()\n"
   ]
  },
  {
   "cell_type": "code",
   "execution_count": null,
   "metadata": {},
   "outputs": [],
   "source": []
  }
 ],
 "metadata": {
  "kernelspec": {
   "display_name": "attendance",
   "language": "python",
   "name": "python3"
  },
  "language_info": {
   "codemirror_mode": {
    "name": "ipython",
    "version": 3
   },
   "file_extension": ".py",
   "mimetype": "text/x-python",
   "name": "python",
   "nbconvert_exporter": "python",
   "pygments_lexer": "ipython3",
   "version": "3.8.20"
  }
 },
 "nbformat": 4,
 "nbformat_minor": 2
}
