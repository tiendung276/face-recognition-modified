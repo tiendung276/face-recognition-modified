{
 "cells": [
  {
   "cell_type": "code",
   "execution_count": 1,
   "metadata": {},
   "outputs": [
    {
     "name": "stdout",
     "output_type": "stream",
     "text": [
      "Connection successful!\n"
     ]
    }
   ],
   "source": [
    "import pyodbc\n",
    "\n",
    "server = r\"desktop-5cqeviu\"  # Replace with your actual server name\n",
    "driver_name = \"SQL Server\"  # Replace with the actual driver installed on your machine\n",
    "database_name = \"QuanLyNhanSu\"\n",
    "username = \"sa\"\n",
    "password = \"123456\"\n",
    "\n",
    "# Define the connection string\n",
    "connection_str = f\"\"\"\n",
    "    DRIVER={{{driver_name}}};\n",
    "    SERVER={server};\n",
    "    DATABASE={database_name};\n",
    "    UID={username};\n",
    "    PWD={password};\n",
    "\"\"\"\n",
    "\n",
    "# Establish the connection\n",
    "try:\n",
    "    conn = pyodbc.connect(connection_str)\n",
    "    print(\"Connection successful!\")\n",
    "except pyodbc.Error as e:\n",
    "    print(\"Error in connection:\", e)\n",
    "\n",
    "if 'conn' in locals():\n",
    "    conn.close()\n",
    "\n"
   ]
  },
  {
   "cell_type": "code",
   "execution_count": 2,
   "metadata": {},
   "outputs": [],
   "source": [
    "import pyodbc\n",
    "\n",
    "# Establish the connection and fetch the data\n",
    "try:\n",
    "    conn = pyodbc.connect(connection_str)\n",
    "    cursor = conn.cursor()\n",
    "    # Query to select data from the specific table\n",
    "    cursor.execute(\"SELECT * FROM Accounts\")\n",
    "    rows = cursor.fetchall()\n",
    "    cleaned_data = [(str(col).strip() for col in row) for row in rows]\n",
    "    data_dicts = [dict(zip([column[0] for column in cursor.description], row)) for row in cleaned_data]\n",
    "    \n",
    "    for data in data_dicts:\n",
    "        print(data)\n",
    "\n",
    "except pyodbc.Error as e:\n",
    "    print(\"Error in connection or query:\", e)\n",
    "\n",
    "finally:\n",
    "    if 'conn' in locals():\n",
    "        conn.close()\n"
   ]
  },
  {
   "cell_type": "code",
   "execution_count": 4,
   "metadata": {},
   "outputs": [
    {
     "name": "stdout",
     "output_type": "stream",
     "text": [
      "Records inserted successfully.\n"
     ]
    }
   ],
   "source": [
    "users_data = [\n",
    "    {'username': 'admin_user', 'password': 'admin_pass', 'role': 'admin', 'status': 'active'},\n",
    "    {'username': 'user1', 'password': '123456', 'role': 'employee', 'status': 'active'},\n",
    "    {'username': 'user2', 'password': '345678', 'role': 'employee', 'status': 'active'},\n",
    "    {'username': 'user3', 'password': '123456', 'role': 'employee', 'status': 'inactive'},\n",
    "    {'username': 'user4', 'password': '111111', 'role': 'employee', 'status': 'active'}\n",
    "]\n",
    "\n",
    "try:\n",
    "    conn = pyodbc.connect(connection_str)\n",
    "    cursor = conn.cursor()\n",
    "    for user in users_data:\n",
    "        insert_query = \"\"\"\n",
    "            INSERT INTO Accounts (\n",
    "                username, password, role, status\n",
    "            ) \n",
    "            VALUES (?, ?, ?, ?)\n",
    "        \"\"\"\n",
    "        cursor.execute(\n",
    "            insert_query,\n",
    "            user['username'], user['password'], user['role'], user['status']\n",
    "        )\n",
    "\n",
    "    # Commit các thay đổi để lưu vào cơ sở dữ liệu\n",
    "    conn.commit()\n",
    "    print(\"Records inserted successfully.\")\n",
    "\n",
    "except pyodbc.Error as e:\n",
    "    print(\"Error in connection or query:\", e)\n",
    "\n",
    "finally:\n",
    "    if 'conn' in locals():\n",
    "        conn.close()\n"
   ]
  },
  {
   "cell_type": "code",
   "execution_count": null,
   "metadata": {},
   "outputs": [],
   "source": []
  }
 ],
 "metadata": {
  "kernelspec": {
   "display_name": "attendance",
   "language": "python",
   "name": "python3"
  },
  "language_info": {
   "codemirror_mode": {
    "name": "ipython",
    "version": 3
   },
   "file_extension": ".py",
   "mimetype": "text/x-python",
   "name": "python",
   "nbconvert_exporter": "python",
   "pygments_lexer": "ipython3",
   "version": "3.8.20"
  }
 },
 "nbformat": 4,
 "nbformat_minor": 2
}
