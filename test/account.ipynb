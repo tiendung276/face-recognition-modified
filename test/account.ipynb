{
 "cells": [
  {
   "cell_type": "code",
   "execution_count": 4,
   "metadata": {},
   "outputs": [
    {
     "name": "stdout",
     "output_type": "stream",
     "text": [
      "Connection successful!\n"
     ]
    }
   ],
   "source": [
    "import pyodbc\n",
    "\n",
    "server = r\"desktop-5cqeviu\"  # Replace with your actual server name\n",
    "driver_name = \"SQL Server\"  # Replace with the actual driver installed on your machine\n",
    "database_name = \"QuanLyNhanSu\"\n",
    "username = \"sa\"\n",
    "password = \"123456\"\n",
    "\n",
    "# Define the connection string\n",
    "connection_str = f\"\"\"\n",
    "    DRIVER={{{driver_name}}};\n",
    "    SERVER={server};\n",
    "    DATABASE={database_name};\n",
    "    UID={username};\n",
    "    PWD={password};\n",
    "\"\"\"\n",
    "\n",
    "# Establish the connection\n",
    "try:\n",
    "    conn = pyodbc.connect(connection_str)\n",
    "    print(\"Connection successful!\")\n",
    "except pyodbc.Error as e:\n",
    "    print(\"Error in connection:\", e)\n",
    "\n",
    "if 'conn' in locals():\n",
    "    conn.close()\n",
    "\n"
   ]
  },
  {
   "cell_type": "code",
   "execution_count": 14,
   "metadata": {},
   "outputs": [
    {
     "name": "stdout",
     "output_type": "stream",
     "text": [
      "{'attendance_id': '1', 'employee_id': '2', 'work_date': '2021-11-23', 'check_in_time': '09:00:00.0000000', 'check_out_time': '18:00:00.0000000', 'hours_worked': '9.0', 'status': 'present'}\n",
      "{'attendance_id': '2', 'employee_id': '2', 'work_date': '2023-11-20', 'check_in_time': '09:00:00.0000000', 'check_out_time': '18:00:00.0000000', 'hours_worked': '9.0', 'status': 'present'}\n",
      "{'attendance_id': '3', 'employee_id': '3', 'work_date': '2023-11-20', 'check_in_time': '10:00:00.0000000', 'check_out_time': '17:00:00.0000000', 'hours_worked': '7.0', 'status': 'leave'}\n",
      "{'attendance_id': '4', 'employee_id': '4', 'work_date': '2023-11-20', 'check_in_time': '08:00:00.0000000', 'check_out_time': '16:30:00.0000000', 'hours_worked': '8.0', 'status': 'present'}\n",
      "{'attendance_id': '5', 'employee_id': '5', 'work_date': '2023-11-20', 'check_in_time': '08:30:00.0000000', 'check_out_time': '17:00:00.0000000', 'hours_worked': '8.0', 'status': 'present'}\n",
      "{'attendance_id': '6', 'employee_id': '6', 'work_date': '2023-11-21', 'check_in_time': '09:30:00.0000000', 'check_out_time': '18:30:00.0000000', 'hours_worked': '9.0', 'status': 'present'}\n",
      "{'user_id': '1', 'username': 'admin', 'password': 'admin123', 'role': 'admin', 'status': 'active'}\n",
      "{'user_id': '2', 'username': 'user1', 'password': '123456', 'role': 'employee', 'status': 'active'}\n",
      "{'user_id': '3', 'username': 'user2', 'password': '345678', 'role': 'employee', 'status': 'active'}\n",
      "{'user_id': '4', 'username': 'user3', 'password': '123456', 'role': 'employee', 'status': 'inactive'}\n",
      "{'user_id': '5', 'username': 'user4', 'password': '111111', 'role': 'employee', 'status': 'active'}\n",
      "{'user_id': '6', 'username': 'user5', 'password': '1234abc', 'role': 'employee', 'status': 'active'}\n",
      "{'employee_id': '1', 'full_name': 'Nguyen Van A', 'department': 'PB1', 'position': 'Giam Doc', 'hire_date': '2024-11-23', 'status': 'active', 'birthday': '1990-08-15', 'gender': 'Nam', 'link_image': 'None'}\n",
      "{'employee_id': '2', 'full_name': 'Tran Thi B', 'department': 'PB2', 'position': 'Nhan Vien Kinh Doanh', 'hire_date': '2021-03-20', 'status': 'active', 'birthday': '1990-08-15', 'gender': 'Nu', 'link_image': 'None'}\n",
      "{'employee_id': '3', 'full_name': 'Le Van C', 'department': 'PB3', 'position': 'Nhan Vien IT', 'hire_date': '2019-11-05', 'status': 'active', 'birthday': '1995-02-10', 'gender': 'Nam', 'link_image': 'None'}\n",
      "{'employee_id': '4', 'full_name': 'Nguyen Thi D', 'department': 'PB1', 'position': 'Thu Ky', 'hire_date': '2022-07-01', 'status': 'active', 'birthday': '1992-12-30', 'gender': 'Nu', 'link_image': 'None'}\n",
      "{'employee_id': '5', 'full_name': 'Pham Van E', 'department': 'PB2', 'position': 'Quan Ly Kinh Doanh', 'hire_date': '2018-09-12', 'status': 'active', 'birthday': '1987-03-25', 'gender': 'Nam', 'link_image': 'None'}\n",
      "{'employee_id': '6', 'full_name': 'Do Thi F', 'department': 'Truong Phong Ky Thuat', 'position': 'PB4', 'hire_date': '2015-01-20', 'status': 'active', 'birthday': '1980-05-14', 'gender': 'Nu', 'link_image': 'None'}\n"
     ]
    }
   ],
   "source": [
    "\n",
    "try:\n",
    "    conn = pyodbc.connect(connection_str)\n",
    "    cursor = conn.cursor()\n",
    "    cursor.execute(\"SELECT * FROM Attendance\")\n",
    "    rows = cursor.fetchall()\n",
    "    cleaned_data = [(str(col).strip() for col in row) for row in rows]\n",
    "    data_dicts = [dict(zip([column[0] for column in cursor.description], row)) for row in cleaned_data]\n",
    "\n",
    "    for data in data_dicts:\n",
    "        print(data)\n",
    "\n",
    "    cursor = conn.cursor()\n",
    "    cursor.execute(\"SELECT * FROM Accounts\")\n",
    "    rows = cursor.fetchall()\n",
    "    cleaned_data = [(str(col).strip() for col in row) for row in rows]\n",
    "    data_dicts = [dict(zip([column[0] for column in cursor.description], row)) for row in cleaned_data]\n",
    "\n",
    "    for data in data_dicts:\n",
    "        print(data)\n",
    "        \n",
    "    cursor = conn.cursor()\n",
    "    cursor.execute(\"SELECT * FROM Employees\")\n",
    "    rows = cursor.fetchall()\n",
    "    cleaned_data = [(str(col).strip() for col in row) for row in rows]\n",
    "    data_dicts = [dict(zip([column[0] for column in cursor.description], row)) for row in cleaned_data]\n",
    "\n",
    "    for data in data_dicts:\n",
    "        print(data)\n",
    "except pyodbc.Error as e:\n",
    "    print(\"Error in connection or query:\", e)\n",
    "\n",
    "finally:\n",
    "    if 'conn' in locals():\n",
    "        conn.close()\n"
   ]
  },
  {
   "cell_type": "code",
   "execution_count": null,
   "metadata": {},
   "outputs": [],
   "source": []
  },
  {
   "cell_type": "code",
   "execution_count": 2,
   "metadata": {},
   "outputs": [],
   "source": [
    "# import pyodbc\n",
    "\n",
    "# # Establish the connection and fetch the data\n",
    "# try:\n",
    "#     conn = pyodbc.connect(connection_str)\n",
    "#     cursor = conn.cursor()\n",
    "#     # Query to select data from the specific table\n",
    "#     cursor.execute(\"SELECT * FROM Accounts\")\n",
    "#     rows = cursor.fetchall()\n",
    "#     cleaned_data = [(str(col).strip() for col in row) for row in rows]\n",
    "#     data_dicts = [dict(zip([column[0] for column in cursor.description], row)) for row in cleaned_data]\n",
    "    \n",
    "#     for data in data_dicts:\n",
    "#         print(data)\n",
    "\n",
    "# except pyodbc.Error as e:\n",
    "#     print(\"Error in connection or query:\", e)\n",
    "\n",
    "# finally:\n",
    "#     if 'conn' in locals():\n",
    "#         conn.close()\n"
   ]
  },
  {
   "cell_type": "code",
   "execution_count": 3,
   "metadata": {},
   "outputs": [],
   "source": [
    "# users_data = [\n",
    "#     {'username': 'admin_user', 'password': 'admin_pass', 'role': 'admin', 'status': 'active'},\n",
    "#     {'username': 'user1', 'password': '123456', 'role': 'employee', 'status': 'active'},\n",
    "#     {'username': 'user2', 'password': '345678', 'role': 'employee', 'status': 'active'},\n",
    "#     {'username': 'user3', 'password': '123456', 'role': 'employee', 'status': 'inactive'},\n",
    "#     {'username': 'user4', 'password': '111111', 'role': 'employee', 'status': 'active'}\n",
    "# ]\n",
    "\n",
    "# try:\n",
    "#     conn = pyodbc.connect(connection_str)\n",
    "#     cursor = conn.cursor()\n",
    "#     for user in users_data:\n",
    "#         insert_query = \"\"\"\n",
    "#             INSERT INTO Accounts (\n",
    "#                 username, password, role, status\n",
    "#             ) \n",
    "#             VALUES (?, ?, ?, ?)\n",
    "#         \"\"\"\n",
    "#         cursor.execute(\n",
    "#             insert_query,\n",
    "#             user['username'], user['password'], user['role'], user['status']\n",
    "#         )\n",
    "\n",
    "#     # Commit các thay đổi để lưu vào cơ sở dữ liệu\n",
    "#     conn.commit()\n",
    "#     print(\"Records inserted successfully.\")\n",
    "\n",
    "# except pyodbc.Error as e:\n",
    "#     print(\"Error in connection or query:\", e)\n",
    "\n",
    "# finally:\n",
    "#     if 'conn' in locals():\n",
    "#         conn.close()\n"
   ]
  },
  {
   "cell_type": "code",
   "execution_count": null,
   "metadata": {},
   "outputs": [],
   "source": []
  }
 ],
 "metadata": {
  "kernelspec": {
   "display_name": "attendance",
   "language": "python",
   "name": "python3"
  },
  "language_info": {
   "codemirror_mode": {
    "name": "ipython",
    "version": 3
   },
   "file_extension": ".py",
   "mimetype": "text/x-python",
   "name": "python",
   "nbconvert_exporter": "python",
   "pygments_lexer": "ipython3",
   "version": "3.8.20"
  }
 },
 "nbformat": 4,
 "nbformat_minor": 2
}
